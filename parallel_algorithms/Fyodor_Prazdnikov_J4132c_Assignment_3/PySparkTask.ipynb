{
 "cells": [
  {
   "cell_type": "markdown",
   "id": "a0ee4b12-aa48-48dd-ba6c-6cc6112a749e",
   "metadata": {},
   "source": [
    "### Create spark session with 2 cores and 2g memory on a driver (you will work locally)"
   ]
  },
  {
   "cell_type": "code",
   "execution_count": 1,
   "id": "c062faba-ccff-4746-9049-c43b6fa4f0f4",
   "metadata": {},
   "outputs": [],
   "source": [
    "import os\n",
    "import sys\n",
    "os.environ[\"PYSPARK_PYTHON\"] = sys.executable\n",
    "os.environ[\"PYSPARK_DRIVER_PYTHON\"] = sys.executable"
   ]
  },
  {
   "cell_type": "code",
   "execution_count": 2,
   "id": "68ce8969",
   "metadata": {},
   "outputs": [],
   "source": [
    "from pyspark.sql import SparkSession\n",
    "\n",
    "spark = SparkSession.builder \\\n",
    "    .master(\"local[2]\") \\\n",
    "    .appName(\"LAB3\") \\\n",
    "    .config(\"spark.driver.memory\", \"2g\") \\\n",
    "    .getOrCreate()"
   ]
  },
  {
   "cell_type": "markdown",
   "id": "fe90a2b1-5045-4320-bdcb-1ced332d1915",
   "metadata": {},
   "source": [
    "### Using Spark UI link below you can see tasks submitted to spark. Also you can see cached values"
   ]
  },
  {
   "cell_type": "code",
   "execution_count": 3,
   "id": "dbbd4481",
   "metadata": {},
   "outputs": [
    {
     "data": {
      "text/html": [
       "\n",
       "            <div>\n",
       "                <p><b>SparkSession - in-memory</b></p>\n",
       "                \n",
       "        <div>\n",
       "            <p><b>SparkContext</b></p>\n",
       "\n",
       "            <p><a href=\"http://Swedist.mshome.net:4040\">Spark UI</a></p>\n",
       "\n",
       "            <dl>\n",
       "              <dt>Version</dt>\n",
       "                <dd><code>v3.4.1</code></dd>\n",
       "              <dt>Master</dt>\n",
       "                <dd><code>local[2]</code></dd>\n",
       "              <dt>AppName</dt>\n",
       "                <dd><code>LAB3</code></dd>\n",
       "            </dl>\n",
       "        </div>\n",
       "        \n",
       "            </div>\n",
       "        "
      ],
      "text/plain": [
       "<pyspark.sql.session.SparkSession at 0x26e482632e0>"
      ]
     },
     "execution_count": 3,
     "metadata": {},
     "output_type": "execute_result"
    }
   ],
   "source": [
    "spark"
   ]
  },
  {
   "cell_type": "code",
   "execution_count": 4,
   "id": "d44d66b7",
   "metadata": {},
   "outputs": [],
   "source": [
    "import random\n",
    "\n",
    "from pyspark.sql import Row\n",
    "from pyspark.sql.types import StructType, StructField, StringType, IntegerType\n",
    "from pyspark.sql.functions import col, udf, monotonically_increasing_id, mean"
   ]
  },
  {
   "cell_type": "markdown",
   "id": "e07ef086-9d3d-4b88-9c87-587edee5699f",
   "metadata": {},
   "source": [
    "### Read dataset"
   ]
  },
  {
   "cell_type": "code",
   "execution_count": 5,
   "id": "cea30893-ec97-4f42-a2d9-d31387ebaea8",
   "metadata": {},
   "outputs": [],
   "source": [
    "path = os.path.join(\"data\", \"cards.json\")"
   ]
  },
  {
   "cell_type": "code",
   "execution_count": 6,
   "id": "17b4e8a6",
   "metadata": {},
   "outputs": [],
   "source": [
    "data = spark.read.json(path)"
   ]
  },
  {
   "cell_type": "code",
   "execution_count": 7,
   "id": "5c205c0b-8b96-4a19-9f6f-82976214a57e",
   "metadata": {},
   "outputs": [
    {
     "name": "stdout",
     "output_type": "stream",
     "text": [
      "-RECORD 0----------------------------------\n",
      " artist             | Zoltan & Gabor       \n",
      " attack             | null                 \n",
      " cardClass          | SHAMAN               \n",
      " classes            | null                 \n",
      " collectible        | true                 \n",
      " collectionText     | null                 \n",
      " cost               | 2                    \n",
      " dbfId              | 404                  \n",
      " durability         | null                 \n",
      " elite              | null                 \n",
      " entourage          | null                 \n",
      " faction            | null                 \n",
      " flavor             | It was just a fle... \n",
      " health             | null                 \n",
      " hideStats          | null                 \n",
      " howToEarn          | null                 \n",
      " howToEarnGolden    | null                 \n",
      " id                 | CS2_038              \n",
      " mechanics          | null                 \n",
      " multiClassGroup    | null                 \n",
      " name               | Ancestral Spirit     \n",
      " overload           | null                 \n",
      " playRequirements   | {null, null, null... \n",
      " playerClass        | SHAMAN               \n",
      " race               | null                 \n",
      " rarity             | RARE                 \n",
      " referencedTags     | [DEATHRATTLE]        \n",
      " set                | EXPERT1              \n",
      " spellDamage        | null                 \n",
      " targetingArrowText | null                 \n",
      " text               | Give a minion \"<b... \n",
      " type               | SPELL                \n",
      "only showing top 1 row\n",
      "\n"
     ]
    }
   ],
   "source": [
    "data.show(1, vertical=True)"
   ]
  },
  {
   "cell_type": "markdown",
   "id": "7f0b6225-c615-48cb-8a22-be03f6d063dd",
   "metadata": {},
   "source": [
    "### Remove samples without artist name, attack and health value"
   ]
  },
  {
   "cell_type": "code",
   "execution_count": 8,
   "id": "04d7c437",
   "metadata": {},
   "outputs": [],
   "source": [
    "data_authors = (\n",
    "    data\n",
    "    .filter(col('artist').isNotNull())\n",
    "    .filter(col('attack').isNotNull())\n",
    "    .filter(col('health').isNotNull())\n",
    ")"
   ]
  },
  {
   "cell_type": "code",
   "execution_count": 9,
   "id": "549be9a3-2447-46ab-99a5-0a37efd94c91",
   "metadata": {},
   "outputs": [
    {
     "data": {
      "text/plain": [
       "DataFrame[artist: string, attack: bigint, cardClass: string, classes: array<string>, collectible: boolean, collectionText: string, cost: bigint, dbfId: bigint, durability: bigint, elite: boolean, entourage: array<string>, faction: string, flavor: string, health: bigint, hideStats: boolean, howToEarn: string, howToEarnGolden: string, id: string, mechanics: array<string>, multiClassGroup: string, name: string, overload: bigint, playRequirements: struct<REQ_DAMAGED_TARGET:bigint,REQ_ENEMY_TARGET:bigint,REQ_ENEMY_WEAPON_EQUIPPED:bigint,REQ_ENTIRE_ENTOURAGE_NOT_IN_PLAY:bigint,REQ_FRIENDLY_MINION_DIED_THIS_GAME:bigint,REQ_FRIENDLY_TARGET:bigint,REQ_FROZEN_TARGET:bigint,REQ_HERO_TARGET:bigint,REQ_LEGENDARY_TARGET:bigint,REQ_MINIMUM_ENEMY_MINIONS:bigint,REQ_MINIMUM_TOTAL_MINIONS:bigint,REQ_MINION_OR_ENEMY_HERO:bigint,REQ_MINION_SLOT_OR_MANA_CRYSTAL_SLOT:bigint,REQ_MINION_TARGET:bigint,REQ_MUST_TARGET_TAUNTER:bigint,REQ_NONSELF_TARGET:bigint,REQ_NUM_MINION_SLOTS:bigint,REQ_SECRET_CAP_FOR_NON_SECRET:bigint,REQ_STEADY_SHOT:bigint,REQ_STEALTHED_TARGET:bigint,REQ_TARGET_FOR_COMBO:bigint,REQ_TARGET_IF_AVAILABLE:bigint,REQ_TARGET_IF_AVAILABLE_AND_DRAGON_IN_HAND:bigint,REQ_TARGET_IF_AVAILABLE_AND_MINIMUM_FRIENDLY_MINIONS:bigint,REQ_TARGET_IF_AVAILABLE_AND_MINIMUM_FRIENDLY_SECRETS:bigint,REQ_TARGET_MAX_ATTACK:bigint,REQ_TARGET_MIN_ATTACK:bigint,REQ_TARGET_TO_PLAY:bigint,REQ_TARGET_WITH_DEATHRATTLE:bigint,REQ_TARGET_WITH_RACE:bigint,REQ_UNDAMAGED_TARGET:bigint,REQ_WEAPON_EQUIPPED:bigint>, playerClass: string, race: string, rarity: string, referencedTags: array<string>, set: string, spellDamage: bigint, targetingArrowText: string, text: string, type: string]"
      ]
     },
     "execution_count": 9,
     "metadata": {},
     "output_type": "execute_result"
    }
   ],
   "source": [
    "data_authors.cache()"
   ]
  },
  {
   "cell_type": "markdown",
   "id": "c60245c4-de80-4be9-adf3-4cc30181b774",
   "metadata": {},
   "source": [
    "### For each column print the number of non Null rows and number of unique rows"
   ]
  },
  {
   "cell_type": "code",
   "execution_count": 10,
   "id": "f1bda4cb",
   "metadata": {},
   "outputs": [
    {
     "name": "stdout",
     "output_type": "stream",
     "text": [
      "artist. Non empty: 829\tUnique values: 234\n",
      "attack. Non empty: 829\tUnique values: 31\n",
      "cardClass. Non empty: 829\tUnique values: 10\n",
      "classes. Non empty: 9\tUnique values: 4\n",
      "collectible. Non empty: 731\tUnique values: 2\n",
      "collectionText. Non empty: 5\tUnique values: 6\n",
      "cost. Non empty: 829\tUnique values: 14\n",
      "dbfId. Non empty: 829\tUnique values: 829\n",
      "durability. Non empty: 0\tUnique values: 1\n",
      "elite. Non empty: 141\tUnique values: 2\n",
      "entourage. Non empty: 6\tUnique values: 7\n",
      "faction. Non empty: 60\tUnique values: 3\n",
      "flavor. Non empty: 731\tUnique values: 732\n",
      "health. Non empty: 829\tUnique values: 30\n",
      "hideStats. Non empty: 2\tUnique values: 2\n",
      "howToEarn. Non empty: 136\tUnique values: 27\n",
      "howToEarnGolden. Non empty: 181\tUnique values: 77\n",
      "id. Non empty: 829\tUnique values: 829\n",
      "mechanics. Non empty: 553\tUnique values: 49\n",
      "multiClassGroup. Non empty: 9\tUnique values: 4\n",
      "name. Non empty: 829\tUnique values: 791\n",
      "overload. Non empty: 9\tUnique values: 4\n",
      "playRequirements. Non empty: 81\tUnique values: 34\n",
      "playerClass. Non empty: 829\tUnique values: 10\n",
      "race. Non empty: 240\tUnique values: 8\n",
      "rarity. Non empty: 744\tUnique values: 6\n",
      "referencedTags. Non empty: 131\tUnique values: 23\n",
      "set. Non empty: 829\tUnique values: 12\n",
      "spellDamage. Non empty: 14\tUnique values: 4\n",
      "targetingArrowText. Non empty: 49\tUnique values: 40\n",
      "text. Non empty: 734\tUnique values: 648\n",
      "type. Non empty: 829\tUnique values: 1\n"
     ]
    }
   ],
   "source": [
    "for column_name in data_authors.columns:\n",
    "    rows_number_not_empty = data_authors.filter(col(column_name).isNotNull()).count()\n",
    "    rows_number_unique = data_authors.select(column_name).distinct().count() # distinct operation may help\n",
    "    \n",
    "    print('{}. Non empty: {}\\tUnique values: {}'.format(column_name, rows_number_not_empty, rows_number_unique))"
   ]
  },
  {
   "cell_type": "code",
   "execution_count": 11,
   "id": "d472c55f",
   "metadata": {},
   "outputs": [
    {
     "name": "stdout",
     "output_type": "stream",
     "text": [
      "+----------+\n",
      "|      race|\n",
      "+----------+\n",
      "|MECHANICAL|\n",
      "|      null|\n",
      "|    MURLOC|\n",
      "|    DRAGON|\n",
      "|     TOTEM|\n",
      "|     BEAST|\n",
      "|     DEMON|\n",
      "|    PIRATE|\n",
      "+----------+\n",
      "\n"
     ]
    }
   ],
   "source": [
    "data_authors.select('race').distinct().show()"
   ]
  },
  {
   "cell_type": "code",
   "execution_count": 12,
   "id": "d0fa9764",
   "metadata": {},
   "outputs": [
    {
     "name": "stdout",
     "output_type": "stream",
     "text": [
      "+---------+\n",
      "|   rarity|\n",
      "+---------+\n",
      "|     null|\n",
      "|     FREE|\n",
      "|     EPIC|\n",
      "|     RARE|\n",
      "|   COMMON|\n",
      "|LEGENDARY|\n",
      "+---------+\n",
      "\n"
     ]
    }
   ],
   "source": [
    "data_authors.select('rarity').distinct().show()"
   ]
  },
  {
   "cell_type": "code",
   "execution_count": 13,
   "id": "37c5d1d1",
   "metadata": {},
   "outputs": [],
   "source": [
    "str2int_rarity = {\n",
    "    'FREE': 1,\n",
    "    'COMMON': 2,\n",
    "    'RARE': 3,\n",
    "    'LEGENDARY': 4,\n",
    "    'EPIC': 5,\n",
    "    'NULL': 0\n",
    "}"
   ]
  },
  {
   "cell_type": "code",
   "execution_count": 14,
   "id": "cc386adb-3fd6-4511-87a9-f383bad8df6a",
   "metadata": {},
   "outputs": [],
   "source": [
    "# Using dict above - create a new column with name \"rarity_int\", where each string will be converted to an integer\n",
    "# Operation \"col\" return \"pointer\" to required column"
   ]
  },
  {
   "cell_type": "code",
   "execution_count": 15,
   "id": "74ea05ec",
   "metadata": {},
   "outputs": [],
   "source": [
    "data_authors = (\n",
    "    data_authors\n",
    "    .withColumn(\n",
    "        'rarity_int',\n",
    "        udf(lambda x: str2int_rarity.get(x, 0), IntegerType())(col('rarity'))\n",
    "    )\n",
    ")"
   ]
  },
  {
   "cell_type": "code",
   "execution_count": 16,
   "id": "8451d629-f627-44fe-9c58-53cb3e0f2488",
   "metadata": {},
   "outputs": [
    {
     "name": "stdout",
     "output_type": "stream",
     "text": [
      "-RECORD 0----------------------------------\n",
      " artist             | John Polidora        \n",
      " attack             | 10                   \n",
      " cardClass          | NEUTRAL              \n",
      " classes            | null                 \n",
      " collectible        | true                 \n",
      " collectionText     | null                 \n",
      " cost               | 9                    \n",
      " dbfId              | 2725                 \n",
      " durability         | null                 \n",
      " elite              | true                 \n",
      " entourage          | null                 \n",
      " faction            | null                 \n",
      " flavor             | This massive yeti... \n",
      " health             | 10                   \n",
      " hideStats          | null                 \n",
      " howToEarn          | null                 \n",
      " howToEarnGolden    | null                 \n",
      " id                 | AT_125               \n",
      " mechanics          | [CHARGE]             \n",
      " multiClassGroup    | null                 \n",
      " name               | Icehowl              \n",
      " overload           | null                 \n",
      " playRequirements   | null                 \n",
      " playerClass        | NEUTRAL              \n",
      " race               | null                 \n",
      " rarity             | LEGENDARY            \n",
      " referencedTags     | null                 \n",
      " set                | TGT                  \n",
      " spellDamage        | null                 \n",
      " targetingArrowText | null                 \n",
      " text               | <b>Charge</b>\\nCa... \n",
      " type               | MINION               \n",
      " rarity_int         | 4                    \n",
      "only showing top 1 row\n",
      "\n"
     ]
    }
   ],
   "source": [
    "data_authors.show(1, vertical=True)"
   ]
  },
  {
   "cell_type": "markdown",
   "id": "9b4cb6b8-17a9-44cb-82af-ca8158e60f89",
   "metadata": {},
   "source": [
    "### Calculate average rarity of each race"
   ]
  },
  {
   "cell_type": "code",
   "execution_count": 17,
   "id": "dcdfdd8e",
   "metadata": {},
   "outputs": [
    {
     "name": "stdout",
     "output_type": "stream",
     "text": [
      "+----------+------------------+\n",
      "|      race|    average rarity|\n",
      "+----------+------------------+\n",
      "|MECHANICAL|3.0185185185185186|\n",
      "|      null|2.6536502546689302|\n",
      "|    MURLOC| 2.652173913043478|\n",
      "|    DRAGON|3.2222222222222223|\n",
      "|     TOTEM|               2.5|\n",
      "|     BEAST|               2.3|\n",
      "|     DEMON|2.3333333333333335|\n",
      "|    PIRATE|2.8947368421052633|\n",
      "+----------+------------------+\n",
      "\n"
     ]
    }
   ],
   "source": [
    "data_authors.groupby('race').agg(mean('rarity_int').alias('average rarity')).show()"
   ]
  },
  {
   "cell_type": "code",
   "execution_count": 18,
   "id": "3341b101",
   "metadata": {},
   "outputs": [],
   "source": [
    "@udf(returnType=IntegerType())\n",
    "def calculate_number_of_attacks(health, attack):\n",
    "    if attack == 0:\n",
    "        return -1\n",
    "    return health // attack + (0 if health % attack == 0 else 1)"
   ]
  },
  {
   "cell_type": "code",
   "execution_count": 19,
   "id": "b11d4aab",
   "metadata": {},
   "outputs": [],
   "source": [
    "# Using udf defined above, calculate how many attacks needed for each card to kill itself\n",
    "data_authors_2 = (\n",
    "    data_authors\n",
    "    .withColumn('Attack to kill itself', calculate_number_of_attacks(col('health'), col('attack')))\n",
    "    .select('health', 'attack', 'Attack to kill itself')\n",
    ")"
   ]
  },
  {
   "cell_type": "code",
   "execution_count": 20,
   "id": "8b09750f",
   "metadata": {},
   "outputs": [
    {
     "name": "stdout",
     "output_type": "stream",
     "text": [
      "+------+------+---------------------+\n",
      "|health|attack|Attack to kill itself|\n",
      "+------+------+---------------------+\n",
      "|    10|    10|                    1|\n",
      "|     5|     3|                    2|\n",
      "|     3|     2|                    2|\n",
      "|     2|     2|                    1|\n",
      "|     4|     5|                    1|\n",
      "+------+------+---------------------+\n",
      "only showing top 5 rows\n",
      "\n"
     ]
    }
   ],
   "source": [
    "data_authors_2.show(5)"
   ]
  },
  {
   "cell_type": "code",
   "execution_count": 21,
   "id": "36089ac2-a1b2-456b-989f-467534de224d",
   "metadata": {},
   "outputs": [],
   "source": [
    "# Here some work on randomizing indexes for dataframe. It is not always easy to assign unique values for each row non-monotonically"
   ]
  },
  {
   "cell_type": "code",
   "execution_count": 22,
   "id": "0e8bd40b",
   "metadata": {},
   "outputs": [],
   "source": [
    "random_ids_left = list(range(data_authors.count() + 1))\n",
    "random_ids_right = list(range(data_authors.count() + 1))"
   ]
  },
  {
   "cell_type": "code",
   "execution_count": 23,
   "id": "2d36672e-f22d-4bf5-9513-29a9bf711c6e",
   "metadata": {},
   "outputs": [
    {
     "data": {
      "text/plain": [
       "[0, 1, 2, 3, 4, 5, 6, 7, 8, 9]"
      ]
     },
     "execution_count": 23,
     "metadata": {},
     "output_type": "execute_result"
    }
   ],
   "source": [
    "random_ids_left[:10]"
   ]
  },
  {
   "cell_type": "code",
   "execution_count": 24,
   "id": "75e60e49-5ff2-4cec-ad5c-3fc385d6b9dc",
   "metadata": {},
   "outputs": [
    {
     "data": {
      "text/plain": [
       "[0, 1, 2, 3, 4, 5, 6, 7, 8, 9]"
      ]
     },
     "execution_count": 24,
     "metadata": {},
     "output_type": "execute_result"
    }
   ],
   "source": [
    "random_ids_right[:10]"
   ]
  },
  {
   "cell_type": "code",
   "execution_count": 25,
   "id": "81985c93",
   "metadata": {},
   "outputs": [],
   "source": [
    "random.shuffle(random_ids_left)\n",
    "random.shuffle(random_ids_right)"
   ]
  },
  {
   "cell_type": "code",
   "execution_count": 26,
   "id": "852c4acd",
   "metadata": {},
   "outputs": [],
   "source": [
    "# Create monotonic id\n",
    "data_authors = (\n",
    "    data_authors\n",
    "    .withColumn('unique_id', monotonically_increasing_id())\n",
    ")"
   ]
  },
  {
   "cell_type": "code",
   "execution_count": 27,
   "id": "c1900417",
   "metadata": {},
   "outputs": [],
   "source": [
    "# Create left and right indexes for each sample. You will use them for join operation\n",
    "data_authors = data_authors.withColumn('left_id', udf(lambda x: random_ids_left[x], IntegerType())(col('unique_id')))\n",
    "data_authors = data_authors.withColumn('right_id', udf(lambda x: random_ids_right[x], IntegerType())(col('unique_id')))"
   ]
  },
  {
   "cell_type": "code",
   "execution_count": 28,
   "id": "c628f0ec-c9b6-4228-a882-31268bcf6a19",
   "metadata": {},
   "outputs": [
    {
     "data": {
      "text/plain": [
       "DataFrame[artist: string, attack: bigint, cardClass: string, classes: array<string>, collectible: boolean, collectionText: string, cost: bigint, dbfId: bigint, durability: bigint, elite: boolean, entourage: array<string>, faction: string, flavor: string, health: bigint, hideStats: boolean, howToEarn: string, howToEarnGolden: string, id: string, mechanics: array<string>, multiClassGroup: string, name: string, overload: bigint, playRequirements: struct<REQ_DAMAGED_TARGET:bigint,REQ_ENEMY_TARGET:bigint,REQ_ENEMY_WEAPON_EQUIPPED:bigint,REQ_ENTIRE_ENTOURAGE_NOT_IN_PLAY:bigint,REQ_FRIENDLY_MINION_DIED_THIS_GAME:bigint,REQ_FRIENDLY_TARGET:bigint,REQ_FROZEN_TARGET:bigint,REQ_HERO_TARGET:bigint,REQ_LEGENDARY_TARGET:bigint,REQ_MINIMUM_ENEMY_MINIONS:bigint,REQ_MINIMUM_TOTAL_MINIONS:bigint,REQ_MINION_OR_ENEMY_HERO:bigint,REQ_MINION_SLOT_OR_MANA_CRYSTAL_SLOT:bigint,REQ_MINION_TARGET:bigint,REQ_MUST_TARGET_TAUNTER:bigint,REQ_NONSELF_TARGET:bigint,REQ_NUM_MINION_SLOTS:bigint,REQ_SECRET_CAP_FOR_NON_SECRET:bigint,REQ_STEADY_SHOT:bigint,REQ_STEALTHED_TARGET:bigint,REQ_TARGET_FOR_COMBO:bigint,REQ_TARGET_IF_AVAILABLE:bigint,REQ_TARGET_IF_AVAILABLE_AND_DRAGON_IN_HAND:bigint,REQ_TARGET_IF_AVAILABLE_AND_MINIMUM_FRIENDLY_MINIONS:bigint,REQ_TARGET_IF_AVAILABLE_AND_MINIMUM_FRIENDLY_SECRETS:bigint,REQ_TARGET_MAX_ATTACK:bigint,REQ_TARGET_MIN_ATTACK:bigint,REQ_TARGET_TO_PLAY:bigint,REQ_TARGET_WITH_DEATHRATTLE:bigint,REQ_TARGET_WITH_RACE:bigint,REQ_UNDAMAGED_TARGET:bigint,REQ_WEAPON_EQUIPPED:bigint>, playerClass: string, race: string, rarity: string, referencedTags: array<string>, set: string, spellDamage: bigint, targetingArrowText: string, text: string, type: string, rarity_int: int, unique_id: bigint, left_id: int, right_id: int]"
      ]
     },
     "execution_count": 28,
     "metadata": {},
     "output_type": "execute_result"
    }
   ],
   "source": [
    "data_authors.cache()"
   ]
  },
  {
   "cell_type": "code",
   "execution_count": 29,
   "id": "f242655f",
   "metadata": {},
   "outputs": [
    {
     "data": {
      "text/plain": [
       "829"
      ]
     },
     "execution_count": 29,
     "metadata": {},
     "output_type": "execute_result"
    }
   ],
   "source": [
    "data_authors.count()"
   ]
  },
  {
   "cell_type": "code",
   "execution_count": 30,
   "id": "9ff81230-5113-41bb-8744-54e426a281ca",
   "metadata": {},
   "outputs": [
    {
     "name": "stdout",
     "output_type": "stream",
     "text": [
      "-RECORD 0----------------------------------\n",
      " artist             | John Polidora        \n",
      " attack             | 10                   \n",
      " cardClass          | NEUTRAL              \n",
      " classes            | null                 \n",
      " collectible        | true                 \n",
      " collectionText     | null                 \n",
      " cost               | 9                    \n",
      " dbfId              | 2725                 \n",
      " durability         | null                 \n",
      " elite              | true                 \n",
      " entourage          | null                 \n",
      " faction            | null                 \n",
      " flavor             | This massive yeti... \n",
      " health             | 10                   \n",
      " hideStats          | null                 \n",
      " howToEarn          | null                 \n",
      " howToEarnGolden    | null                 \n",
      " id                 | AT_125               \n",
      " mechanics          | [CHARGE]             \n",
      " multiClassGroup    | null                 \n",
      " name               | Icehowl              \n",
      " overload           | null                 \n",
      " playRequirements   | null                 \n",
      " playerClass        | NEUTRAL              \n",
      " race               | null                 \n",
      " rarity             | LEGENDARY            \n",
      " referencedTags     | null                 \n",
      " set                | TGT                  \n",
      " spellDamage        | null                 \n",
      " targetingArrowText | null                 \n",
      " text               | <b>Charge</b>\\nCa... \n",
      " type               | MINION               \n",
      " rarity_int         | 4                    \n",
      " unique_id          | 0                    \n",
      " left_id            | 570                  \n",
      " right_id           | 753                  \n",
      "only showing top 1 row\n",
      "\n"
     ]
    }
   ],
   "source": [
    "data_authors.show(1, vertical=True)"
   ]
  },
  {
   "cell_type": "code",
   "execution_count": 31,
   "id": "43698be3-9291-44b0-b9fc-1e75b1648fed",
   "metadata": {},
   "outputs": [],
   "source": [
    "# For each sample you need to select another sample, where left_id == right_id and create new row\n",
    "# Resulting dataframe consists of [left_id, name, attack, health, right_id, right_name, right_attack, right_health]\n",
    "\n",
    "# Small hint: data_authors.select(col('name').alias('right_name'))\n",
    "# Small hint: you can join table with itself"
   ]
  },
  {
   "cell_type": "code",
   "execution_count": 32,
   "id": "197934a3-1afd-43de-9561-7a3517cfcaf0",
   "metadata": {},
   "outputs": [],
   "source": [
    "data_crossed = (\n",
    "    data_authors\n",
    "    .select(\n",
    "        col(\"left_id\").alias(\"join_id\"),\n",
    "        col(\"left_id\"),\n",
    "        col(\"name\"),\n",
    "        col(\"attack\"),\n",
    "        col(\"health\"),\n",
    "    )\n",
    "    .join(\n",
    "        (\n",
    "            data_authors\n",
    "            .select(\n",
    "                col(\"right_id\").alias(\"join_id\"),\n",
    "                col(\"right_id\"),\n",
    "                col(\"name\").alias(\"right_name\"),\n",
    "                col(\"attack\").alias(\"right_attack\"),\n",
    "                col(\"health\").alias(\"right_health\"),\n",
    "            )\n",
    "        ),\n",
    "        on=\"join_id\",\n",
    "        how=\"inner\"\n",
    "    )\n",
    "    .drop(\"join_id\")\n",
    ")"
   ]
  },
  {
   "cell_type": "code",
   "execution_count": 33,
   "id": "fbeb14a2-5b7f-4cd1-a3a0-febfa79f69cc",
   "metadata": {},
   "outputs": [
    {
     "data": {
      "text/plain": [
       "DataFrame[left_id: int, name: string, attack: bigint, health: bigint, right_id: int, right_name: string, right_attack: bigint, right_health: bigint]"
      ]
     },
     "execution_count": 33,
     "metadata": {},
     "output_type": "execute_result"
    }
   ],
   "source": [
    "data_crossed.cache()"
   ]
  },
  {
   "cell_type": "code",
   "execution_count": 34,
   "id": "1ecdac4b-7ac0-4ce9-a715-8052ee97168b",
   "metadata": {},
   "outputs": [
    {
     "name": "stdout",
     "output_type": "stream",
     "text": [
      "+-------+-----------------+------+------+--------+-----------------+------------+------------+\n",
      "|left_id|             name|attack|health|right_id|       right_name|right_attack|right_health|\n",
      "+-------+-----------------+------+------+--------+-----------------+------------+------------+\n",
      "|    570|          Icehowl|    10|    10|     570|Illidan Stormrage|           7|           5|\n",
      "|    343|     Wailing Soul|     3|     5|     343|      Deadly Fork|           3|           2|\n",
      "|    527|Sunfury Protector|     2|     3|     527|    Hungry Dragon|           5|           6|\n",
      "|    209|     Dark Peddler|     2|     2|     209|     Ivory Knight|           4|           4|\n",
      "|    123| Genzo, the Shark|     5|     4|     123|        Flame Imp|           3|           2|\n",
      "+-------+-----------------+------+------+--------+-----------------+------------+------------+\n",
      "only showing top 5 rows\n",
      "\n"
     ]
    }
   ],
   "source": [
    "data_crossed.show(5)"
   ]
  },
  {
   "cell_type": "code",
   "execution_count": 35,
   "id": "289636d2",
   "metadata": {},
   "outputs": [],
   "source": [
    "# Now calculate how many attacks required for left card to kill right card\n",
    "data_crossed = (\n",
    "    data_crossed\n",
    "    .withColumn('Attacks to kill', calculate_number_of_attacks(col('right_health'), col('attack')))\n",
    ")"
   ]
  },
  {
   "cell_type": "code",
   "execution_count": 36,
   "id": "07e7d52c",
   "metadata": {},
   "outputs": [
    {
     "name": "stdout",
     "output_type": "stream",
     "text": [
      "+-------+--------------------+------+------+--------+---------------+------------+------------+---------------+\n",
      "|left_id|                name|attack|health|right_id|     right_name|right_attack|right_health|Attacks to kill|\n",
      "+-------+--------------------+------+------+--------+---------------+------------+------------+---------------+\n",
      "|     50|   Southsea Deckhand|     2|     1|      50|The Ancient One|          30|          30|             15|\n",
      "|     57|             Mastiff|     1|     1|      57|     Jade Golem|          24|          24|             24|\n",
      "|    745|Archmage's Appren...|     2|     4|     745|     Jade Golem|          27|          27|             14|\n",
      "|    465|    Warhorse Trainer|     2|     4|     465|     Jade Golem|          26|          26|             13|\n",
      "|    669|       Micro Machine|     1|     2|     669|     Jade Golem|          21|          21|             21|\n",
      "+-------+--------------------+------+------+--------+---------------+------------+------------+---------------+\n",
      "\n"
     ]
    }
   ],
   "source": [
    "data_crossed.filter(col('Attacks to kill') > 10).show(10)"
   ]
  },
  {
   "cell_type": "code",
   "execution_count": null,
   "id": "4c3b299d-580f-4cfb-9e99-fb40da38f00d",
   "metadata": {},
   "outputs": [],
   "source": []
  },
  {
   "cell_type": "code",
   "execution_count": null,
   "id": "1ffbf4fe",
   "metadata": {},
   "outputs": [],
   "source": []
  },
  {
   "cell_type": "code",
   "execution_count": null,
   "id": "634ff0dc",
   "metadata": {},
   "outputs": [],
   "source": []
  },
  {
   "cell_type": "code",
   "execution_count": 37,
   "id": "c159bfbd-f8b1-43f4-a7ac-72e9c6b22255",
   "metadata": {},
   "outputs": [],
   "source": [
    "spark.stop()"
   ]
  },
  {
   "cell_type": "code",
   "execution_count": null,
   "id": "f832397e",
   "metadata": {},
   "outputs": [],
   "source": [
    "\"\"\"\n",
    "Additional task OPTIONAL\n",
    "\n",
    "Calculate who will win (left or right), if left one starts first\n",
    "\"\"\""
   ]
  },
  {
   "cell_type": "code",
   "execution_count": null,
   "id": "0b2605a2",
   "metadata": {},
   "outputs": [],
   "source": []
  }
 ],
 "metadata": {
  "kernelspec": {
   "display_name": "Python 3 (ipykernel)",
   "language": "python",
   "name": "python3"
  },
  "language_info": {
   "codemirror_mode": {
    "name": "ipython",
    "version": 3
   },
   "file_extension": ".py",
   "mimetype": "text/x-python",
   "name": "python",
   "nbconvert_exporter": "python",
   "pygments_lexer": "ipython3",
   "version": "3.10.13"
  }
 },
 "nbformat": 4,
 "nbformat_minor": 5
}
